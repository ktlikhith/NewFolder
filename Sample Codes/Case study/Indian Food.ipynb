{
 "cells": [
  {
   "cell_type": "code",
   "execution_count": null,
   "metadata": {},
   "outputs": [],
   "source": [
    "import pandas as pd\n",
    "import matplotlib.pyplot as plt\n",
    "import numpy as np"
   ]
  },
  {
   "cell_type": "code",
   "execution_count": null,
   "metadata": {},
   "outputs": [],
   "source": [
    "# create DataFrame from dataset\n",
    "df = pd.read_csv('D:/Dataset/indian_food.csv')\n",
    "df"
   ]
  },
  {
   "cell_type": "code",
   "execution_count": null,
   "metadata": {},
   "outputs": [],
   "source": [
    "# 1.\tFind out how many unique dishes are present.\n",
    "dishes = list(df['name'].unique())\n",
    "dishes"
   ]
  },
  {
   "cell_type": "code",
   "execution_count": null,
   "metadata": {},
   "outputs": [],
   "source": [
    "# 2.\tWhich state has more dishes?\n",
    "df1 = df.groupby('state').count()\n",
    "#df1\n",
    "list(df1[df1['name']==df1['name'].max()].index.values)[0]"
   ]
  },
  {
   "cell_type": "code",
   "execution_count": null,
   "metadata": {},
   "outputs": [],
   "source": [
    "# 3.\tHow many dishes from state Karnataka?\n",
    "df1[df1.index == 'Karnataka']['name'].values[0]"
   ]
  },
  {
   "cell_type": "code",
   "execution_count": null,
   "metadata": {},
   "outputs": [],
   "source": [
    "# 4.\tList number of unique regions\n",
    "list(df['region'].unique())"
   ]
  },
  {
   "cell_type": "code",
   "execution_count": null,
   "metadata": {},
   "outputs": [],
   "source": [
    "# 5.\tCount number of dishes from each region.\n",
    "df2 = df.groupby('region')['name'].count()\n",
    "region = list(df2.index)\n",
    "region_count = list(df2.values)\n",
    "\n",
    "explode = (0, 0.1, 0, 0, 0, 0.1, 0)\n",
    "\n",
    "plt.pie(region_count, explode, shadow=True, startangle=135, labels = region, autopct='%1.1f%%')\n",
    "#patches, texts = plt.pie(region_count, explode, shadow=True, startangle=90)\n",
    "#plt.legend(patches, region, loc=\"best\")\n",
    "plt.axis('equal')\n",
    "plt.tight_layout()\n",
    "plt.show()"
   ]
  },
  {
   "cell_type": "code",
   "execution_count": null,
   "metadata": {},
   "outputs": [],
   "source": [
    "list(df['ingredients'].values)"
   ]
  },
  {
   "cell_type": "code",
   "execution_count": null,
   "metadata": {},
   "outputs": [],
   "source": [
    "import wordcloud\n",
    "from wordcloud import WordCloud, STOPWORDS, ImageColorGenerator"
   ]
  },
  {
   "cell_type": "code",
   "execution_count": null,
   "metadata": {},
   "outputs": [],
   "source": [
    "word_string = \" \".join(df['ingredients'].str.lower())\n",
    "\n",
    "plt.figure(figsize=(15,15))\n",
    "wc = WordCloud(background_color=\"purple\", stopwords = STOPWORDS, max_words=2000, max_font_size= 300,  width=1600, height=800)\n",
    "wc.generate(word_string)\n",
    "\n",
    "plt.imshow(wc.recolor( colormap= 'viridis' , random_state=17), interpolation=\"bilinear\")\n",
    "plt.axis('off')"
   ]
  },
  {
   "cell_type": "code",
   "execution_count": null,
   "metadata": {},
   "outputs": [],
   "source": []
  },
  {
   "cell_type": "code",
   "execution_count": null,
   "metadata": {},
   "outputs": [],
   "source": []
  }
 ],
 "metadata": {
  "kernelspec": {
   "display_name": "Python 3",
   "language": "python",
   "name": "python3"
  },
  "language_info": {
   "codemirror_mode": {
    "name": "ipython",
    "version": 3
   },
   "file_extension": ".py",
   "mimetype": "text/x-python",
   "name": "python",
   "nbconvert_exporter": "python",
   "pygments_lexer": "ipython3",
   "version": "3.7.6"
  }
 },
 "nbformat": 4,
 "nbformat_minor": 4
}
