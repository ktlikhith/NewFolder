{
 "cells": [
  {
   "cell_type": "code",
   "execution_count": 1,
   "metadata": {},
   "outputs": [],
   "source": [
    "import pyspark\n",
    "from pyspark.sql import SparkSession\n",
    "spark=SparkSession.builder\\\n",
    "    .appName('Test Windows')\\\n",
    "    .getOrCreate()"
   ]
  },
  {
   "cell_type": "code",
   "execution_count": 2,
   "metadata": {},
   "outputs": [],
   "source": [
    "from pyspark.sql.functions import *\n",
    "from pyspark.sql.types import *\n",
    "from pyspark.sql.window import Window\n",
    "import pandas as pd\n",
    "import matplotlib.pyplot as plt"
   ]
  },
  {
   "cell_type": "code",
   "execution_count": 3,
   "metadata": {
    "collapsed": true
   },
   "outputs": [
    {
     "name": "stdout",
     "output_type": "stream",
     "text": [
      "root\n",
      " |-- Subject: string (nullable = true)\n",
      " |-- Program: string (nullable = true)\n",
      " |-- Marks: integer (nullable = true)\n",
      "\n",
      "+----------------+-------+-----+\n",
      "|         Subject|Program|Marks|\n",
      "+----------------+-------+-----+\n",
      "| Data Structures|   AIML|   48|\n",
      "| Data Structures|   AIML|   34|\n",
      "| Data Structures|   AIML|   43|\n",
      "|Machine Learning|    BDA|   47|\n",
      "|Machine Learning|    BDA|   47|\n",
      "| Data Structures|     ES|   49|\n",
      "| Data Structures|     ES|   24|\n",
      "| Data Structures|    BDA|   45|\n",
      "| Data Structures|    BDA|   49|\n",
      "| Data Structures|    BDA|   48|\n",
      "|             ABD|   AIML|   47|\n",
      "|             ABD|    BDA|   42|\n",
      "|             ABD|    BDA|   37|\n",
      "|             ABD|    BDA|   41|\n",
      "|             ABD|    BDA|   43|\n",
      "|             ABD|    BDA|   40|\n",
      "|             ABD|    BDA|   49|\n",
      "|             ABD|    BDA|   37|\n",
      "|             ABD|    BDA|   29|\n",
      "|             ABD|    BDA|   46|\n",
      "|Machine Learning|    BDA|   47|\n",
      "|Machine Learning|    BDA|   42|\n",
      "|Machine Learning|    BDA|   37|\n",
      "|Machine Learning|    BDA|   47|\n",
      "| Data Structures|     ES|   48|\n",
      "| Data Structures|     ES|   49|\n",
      "| Data Structures|     ES|   46|\n",
      "| Data Structures|     ES|   44|\n",
      "+----------------+-------+-----+\n",
      "\n"
     ]
    }
   ],
   "source": [
    "input_data = [ ['Data Structures', 'AIML', 48], \\\n",
    "    ['Data Structures', 'AIML', 34], \\\n",
    "    ['Data Structures', 'AIML', 43], \\\n",
    "    ['Machine Learning', 'BDA', 47], \\\n",
    "    ['Machine Learning', 'BDA', 47], \\\n",
    "    ['Data Structures', 'ES', 49], \\\n",
    "    ['Data Structures', 'ES', 24], \\\n",
    "    ['Data Structures', 'BDA', 45], \\\n",
    "    ['Data Structures', 'BDA', 49], \\\n",
    "    ['Data Structures', 'BDA', 48], \\\n",
    "    ['ABD', 'AIML', 47], \\\n",
    "    ['ABD', 'BDA', 42], \\\n",
    "    ['ABD', 'BDA', 37], \\\n",
    "    ['ABD', 'BDA', 41], \\\n",
    "    ['ABD', 'BDA', 43], \\\n",
    "    ['ABD', 'BDA', 40], \\\n",
    "    ['ABD', 'BDA', 49], \\\n",
    "    ['ABD', 'BDA', 37], \\\n",
    "    ['ABD', 'BDA', 29], \\\n",
    "    ['ABD', 'BDA', 46], \\\n",
    "    ['Machine Learning', 'BDA', 47], \\\n",
    "    ['Machine Learning', 'BDA', 42], \\\n",
    "    ['Machine Learning', 'BDA', 37], \\\n",
    "    ['Machine Learning', 'BDA', 47], \\\n",
    "    ['Data Structures', 'ES', 48], \\\n",
    "    ['Data Structures', 'ES', 49], \\\n",
    "    ['Data Structures', 'ES', 46], \\\n",
    "    ['Data Structures', 'ES', 44] ]\n",
    "\n",
    "schema = \"`Subject` STRING, `Program` STRING, `Marks` INTEGER\"\n",
    "prog_df = spark.createDataFrame(data = input_data, schema = schema)\n",
    "prog_df.printSchema()\n",
    "prog_df.show(50)"
   ]
  },
  {
   "cell_type": "code",
   "execution_count": 4,
   "metadata": {},
   "outputs": [
    {
     "name": "stdout",
     "output_type": "stream",
     "text": [
      "+----------------+-------+-----+----+\n",
      "|         Subject|Program|Marks|Rank|\n",
      "+----------------+-------+-----+----+\n",
      "| Data Structures|    BDA|   49|   1|\n",
      "| Data Structures|    BDA|   48|   2|\n",
      "| Data Structures|    BDA|   45|   3|\n",
      "|Machine Learning|    BDA|   47|   1|\n",
      "|Machine Learning|    BDA|   47|   1|\n",
      "|Machine Learning|    BDA|   47|   1|\n",
      "|Machine Learning|    BDA|   47|   1|\n",
      "|Machine Learning|    BDA|   42|   2|\n",
      "|Machine Learning|    BDA|   37|   3|\n",
      "| Data Structures|     ES|   49|   1|\n",
      "| Data Structures|     ES|   49|   1|\n",
      "| Data Structures|     ES|   48|   2|\n",
      "| Data Structures|     ES|   46|   3|\n",
      "| Data Structures|     ES|   44|   4|\n",
      "| Data Structures|     ES|   24|   5|\n",
      "|             ABD|    BDA|   49|   1|\n",
      "|             ABD|    BDA|   46|   2|\n",
      "|             ABD|    BDA|   43|   3|\n",
      "|             ABD|    BDA|   42|   4|\n",
      "|             ABD|    BDA|   41|   5|\n",
      "|             ABD|    BDA|   40|   6|\n",
      "|             ABD|    BDA|   37|   7|\n",
      "|             ABD|    BDA|   37|   7|\n",
      "|             ABD|    BDA|   29|   8|\n",
      "|             ABD|   AIML|   47|   1|\n",
      "| Data Structures|   AIML|   48|   1|\n",
      "| Data Structures|   AIML|   43|   2|\n",
      "| Data Structures|   AIML|   34|   3|\n",
      "+----------------+-------+-----+----+\n",
      "\n"
     ]
    }
   ],
   "source": [
    "# Rank the subject within branch\n",
    "winSpec = Window.partitionBy('Program', 'Subject').orderBy(col('Marks').desc())\n",
    "branch_df = prog_df.withColumn('Rank', dense_rank().over(winSpec))\n",
    "branch_df.show(50)"
   ]
  },
  {
   "cell_type": "code",
   "execution_count": 5,
   "metadata": {},
   "outputs": [
    {
     "name": "stdout",
     "output_type": "stream",
     "text": [
      "+----------------+-------+-----+----+\n",
      "|         Subject|Program|Marks|Rank|\n",
      "+----------------+-------+-----+----+\n",
      "|             ABD|    BDA|   49|   1|\n",
      "|             ABD|   AIML|   47|   2|\n",
      "|             ABD|    BDA|   46|   3|\n",
      "|             ABD|    BDA|   43|   4|\n",
      "|             ABD|    BDA|   42|   5|\n",
      "|             ABD|    BDA|   41|   6|\n",
      "|             ABD|    BDA|   40|   7|\n",
      "|             ABD|    BDA|   37|   8|\n",
      "|             ABD|    BDA|   37|   8|\n",
      "|             ABD|    BDA|   29|  10|\n",
      "|Machine Learning|    BDA|   47|   1|\n",
      "|Machine Learning|    BDA|   47|   1|\n",
      "|Machine Learning|    BDA|   47|   1|\n",
      "|Machine Learning|    BDA|   47|   1|\n",
      "|Machine Learning|    BDA|   42|   5|\n",
      "|Machine Learning|    BDA|   37|   6|\n",
      "| Data Structures|     ES|   49|   1|\n",
      "| Data Structures|    BDA|   49|   1|\n",
      "| Data Structures|     ES|   49|   1|\n",
      "| Data Structures|   AIML|   48|   4|\n",
      "| Data Structures|    BDA|   48|   4|\n",
      "| Data Structures|     ES|   48|   4|\n",
      "| Data Structures|     ES|   46|   7|\n",
      "| Data Structures|    BDA|   45|   8|\n",
      "| Data Structures|     ES|   44|   9|\n",
      "| Data Structures|   AIML|   43|  10|\n",
      "| Data Structures|   AIML|   34|  11|\n",
      "| Data Structures|     ES|   24|  12|\n",
      "+----------------+-------+-----+----+\n",
      "\n"
     ]
    }
   ],
   "source": [
    "# Rank the subject across branch\n",
    "winSpec = Window.partitionBy('Subject').orderBy(col('Marks').desc())\n",
    "subject_df = prog_df.withColumn('Rank', rank().over(winSpec))\n",
    "subject_df.show(50)"
   ]
  },
  {
   "cell_type": "code",
   "execution_count": null,
   "metadata": {},
   "outputs": [],
   "source": [
    "# Subject toppers across branch\n",
    "subject_df.filter(col('Rank') <= 2).show()"
   ]
  },
  {
   "cell_type": "code",
   "execution_count": null,
   "metadata": {},
   "outputs": [],
   "source": [
    "# Subject toper within branch\n",
    "branch_df.filter(col('Rank') <= 1).show()"
   ]
  },
  {
   "cell_type": "code",
   "execution_count": null,
   "metadata": {},
   "outputs": [],
   "source": []
  }
 ],
 "metadata": {
  "kernelspec": {
   "display_name": "Python 3",
   "language": "python",
   "name": "python3"
  },
  "language_info": {
   "codemirror_mode": {
    "name": "ipython",
    "version": 3
   },
   "file_extension": ".py",
   "mimetype": "text/x-python",
   "name": "python",
   "nbconvert_exporter": "python",
   "pygments_lexer": "ipython3",
   "version": "3.7.6"
  }
 },
 "nbformat": 4,
 "nbformat_minor": 4
}
