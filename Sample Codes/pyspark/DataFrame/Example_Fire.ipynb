{
 "cells": [
  {
   "cell_type": "code",
   "execution_count": 1,
   "metadata": {},
   "outputs": [],
   "source": [
    "import pyspark\n",
    "from pyspark.sql import SparkSession\n",
    "spark = SparkSession.builder.appName('Fire Example').getOrCreate()"
   ]
  },
  {
   "cell_type": "code",
   "execution_count": 2,
   "metadata": {},
   "outputs": [],
   "source": [
    "# import packages containing builtin functions and datatypes\n",
    "from pyspark.sql.functions import *\n",
    "from pyspark.sql.types import *"
   ]
  },
  {
   "cell_type": "code",
   "execution_count": 3,
   "metadata": {
    "collapsed": true
   },
   "outputs": [
    {
     "name": "stdout",
     "output_type": "stream",
     "text": [
      "root\n",
      " |-- CallNumber: integer (nullable = true)\n",
      " |-- UnitID: string (nullable = true)\n",
      " |-- IncidentNumber: integer (nullable = true)\n",
      " |-- CallType: string (nullable = true)\n",
      " |-- CallDate: string (nullable = true)\n",
      " |-- WatchDate: string (nullable = true)\n",
      " |-- CallFinalDisposition: string (nullable = true)\n",
      " |-- AvailableDtTm: string (nullable = true)\n",
      " |-- Address: string (nullable = true)\n",
      " |-- City: string (nullable = true)\n",
      " |-- Zipcode: integer (nullable = true)\n",
      " |-- Battalion: string (nullable = true)\n",
      " |-- StationArea: string (nullable = true)\n",
      " |-- Box: string (nullable = true)\n",
      " |-- OriginalPriority: string (nullable = true)\n",
      " |-- Priority: string (nullable = true)\n",
      " |-- FinalPriority: integer (nullable = true)\n",
      " |-- ALSUnit: boolean (nullable = true)\n",
      " |-- CallTypeGroup: string (nullable = true)\n",
      " |-- NumAlarms: integer (nullable = true)\n",
      " |-- UnitType: string (nullable = true)\n",
      " |-- UnitSequenceInCallDispatch: integer (nullable = true)\n",
      " |-- FirePreventionDistrict: string (nullable = true)\n",
      " |-- SupervisorDistrict: string (nullable = true)\n",
      " |-- Neighborhood: string (nullable = true)\n",
      " |-- Location: string (nullable = true)\n",
      " |-- RowID: string (nullable = true)\n",
      " |-- Delay: double (nullable = true)\n",
      "\n"
     ]
    }
   ],
   "source": [
    "df = spark.read.csv('D:/Dataset/sf-fire-calls.csv', header = True, inferSchema = True)\n",
    "df.printSchema()"
   ]
  },
  {
   "cell_type": "code",
   "execution_count": 5,
   "metadata": {
    "collapsed": true
   },
   "outputs": [
    {
     "name": "stdout",
     "output_type": "stream",
     "text": [
      "root\n",
      " |-- CallType: string (nullable = true)\n",
      " |-- CallDate: string (nullable = true)\n",
      " |-- City: string (nullable = true)\n",
      " |-- Zipcode: integer (nullable = true)\n",
      " |-- Neighborhood: string (nullable = true)\n",
      " |-- Delay: double (nullable = true)\n",
      " |-- Date: date (nullable = true)\n",
      "\n",
      "root\n",
      " |-- CallType: string (nullable = true)\n",
      " |-- City: string (nullable = true)\n",
      " |-- Zipcode: integer (nullable = true)\n",
      " |-- Neighborhood: string (nullable = true)\n",
      " |-- Delay: double (nullable = true)\n",
      " |-- Date: date (nullable = true)\n",
      "\n"
     ]
    }
   ],
   "source": [
    "# Data cleaning - Select only required columns using select() and storing as new dataframe\n",
    "clean_df = df.select('CallType', 'CallDate', 'City', 'Zipcode', 'Neighborhood', 'Delay' )\n",
    "\n",
    "# Add a new column 'Date' using method 'withColumn()'.\n",
    "# It takes two parameters, new column name and values to that column. Here we pass 'to_date()' method\n",
    "# as second argument. to_date() takes two parameters. First is the date in string datatype and second \n",
    "# is the required format in date datatype.\n",
    "\n",
    "clean_df = clean_df.withColumn('Date', to_date(col('CallDate'), 'MM/dd/yyyy') )\n",
    "clean_df.printSchema()\n",
    "\n",
    "# Drop the original column, 'CallDate' (date) in stringtype from dataframe\n",
    "clean_df = clean_df.drop('CallDate')\n",
    "clean_df.printSchema()"
   ]
  },
  {
   "cell_type": "code",
   "execution_count": 6,
   "metadata": {
    "collapsed": true
   },
   "outputs": [
    {
     "name": "stdout",
     "output_type": "stream",
     "text": [
      "+----------------+----+-------+--------------------+---------+----------+----+-----+----+\n",
      "|        CallType|City|Zipcode|        Neighborhood|    Delay|      Date|Year|Month|Week|\n",
      "+----------------+----+-------+--------------------+---------+----------+----+-----+----+\n",
      "|  Structure Fire|  SF|  94109|     Pacific Heights|     2.95|2002-01-11|2002|    1|   2|\n",
      "|Medical Incident|  SF|  94124|Bayview Hunters P...|      4.7|2002-01-11|2002|    1|   2|\n",
      "|Medical Incident|  SF|  94102|          Tenderloin|2.4333334|2002-01-11|2002|    1|   2|\n",
      "|    Vehicle Fire|  SF|  94110|      Bernal Heights|      1.5|2002-01-11|2002|    1|   2|\n",
      "|          Alarms|  SF|  94109|    Western Addition|3.4833333|2002-01-11|2002|    1|   2|\n",
      "|  Structure Fire|  SF|  94105|Financial Distric...|     1.75|2002-01-11|2002|    1|   2|\n",
      "|          Alarms|  SF|  94112|Oceanview/Merced/...|2.7166667|2002-01-11|2002|    1|   2|\n",
      "|          Alarms|  SF|  94102|          Tenderloin|1.7833333|2002-01-11|2002|    1|   2|\n",
      "|Medical Incident|  SF|  94115|           Japantown|1.5166667|2002-01-11|2002|    1|   2|\n",
      "|Medical Incident|  SF|  94114| Castro/Upper Market|2.7666667|2002-01-11|2002|    1|   2|\n",
      "|Medical Incident|  SF|  94110|             Mission|2.1833334|2002-01-11|2002|    1|   2|\n",
      "|  Structure Fire|  SF|  94112|           Excelsior|      2.5|2002-01-11|2002|    1|   2|\n",
      "|Medical Incident|  SF|  94109|            Nob Hill|2.4166667|2002-01-11|2002|    1|   2|\n",
      "|Medical Incident|  SF|  94121|      Outer Richmond|     4.95|2002-01-11|2002|    1|   2|\n",
      "|  Structure Fire|  SF|  94110|             Mission|1.4166666|2002-01-11|2002|    1|   2|\n",
      "|  Structure Fire|  SF|  94110|             Mission|2.5333333|2002-01-11|2002|    1|   2|\n",
      "|  Structure Fire|  SF|  94110|             Mission|1.8833333|2002-01-11|2002|    1|   2|\n",
      "|Medical Incident|  SF|  94116|  West of Twin Peaks|     5.35|2002-01-11|2002|    1|   2|\n",
      "|Medical Incident|  SF|  94118|      Inner Richmond|      2.0|2002-01-11|2002|    1|   2|\n",
      "|Medical Incident|  SF|  94118|      Inner Richmond|1.8166667|2002-01-11|2002|    1|   2|\n",
      "+----------------+----+-------+--------------------+---------+----------+----+-----+----+\n",
      "only showing top 20 rows\n",
      "\n"
     ]
    }
   ],
   "source": [
    "# Add new columns, 'Year', 'Month' and 'Week' to existing dataframe\n",
    "\n",
    "clean_df = clean_df.withColumn('Year', year(col('Date')))\\\n",
    "    .withColumn('Month', month(col('Date')))\\\n",
    "    .withColumn('Week', weekofyear(col('Date')))\n",
    "clean_df.show()"
   ]
  },
  {
   "cell_type": "code",
   "execution_count": 8,
   "metadata": {
    "collapsed": true
   },
   "outputs": [
    {
     "name": "stdout",
     "output_type": "stream",
     "text": [
      "+--------------------+----+-------+--------------------+----------+----------+----+-----+----+------+\n",
      "|            CallType|City|Zipcode|        Neighborhood|     Delay|      Date|Year|Month|Week|Season|\n",
      "+--------------------+----+-------+--------------------+----------+----------+----+-----+----+------+\n",
      "|    Medical Incident|  SF|  94110|             Mission| 2.4833333|2002-07-01|2002|    7|  27|Summer|\n",
      "|    Medical Incident|  SF|  94102|          Tenderloin|       4.3|2002-07-01|2002|    7|  27|Summer|\n",
      "|    Medical Incident|  SF|  94103|     South of Market|      6.55|2002-07-01|2002|    7|  27|Summer|\n",
      "|    Medical Incident|  SF|  94114| Castro/Upper Market|      2.45|2002-07-01|2002|    7|  27|Summer|\n",
      "|    Medical Incident|  SF|  94122|     Sunset/Parkside| 3.2666667|2002-07-01|2002|    7|  27|Summer|\n",
      "|    Medical Incident|  SF|  94109|        Russian Hill| 3.1333334|2002-07-01|2002|    7|  27|Summer|\n",
      "|    Medical Incident|  SF|  94109|          Tenderloin|       8.1|2002-07-01|2002|    7|  27|Summer|\n",
      "|    Medical Incident|  SF|  94117| Castro/Upper Market| 3.3666666|2002-07-01|2002|    7|  27|Summer|\n",
      "|    Medical Incident|  SF|  94108|Financial Distric...|  6.883333|2002-07-01|2002|    7|  27|Summer|\n",
      "|    Medical Incident|  SF|  94104|Financial Distric...| 2.0333333|2002-07-01|2002|    7|  27|Summer|\n",
      "|    Medical Incident|  SF|  94103|             Mission|       3.5|2002-07-01|2002|    7|  27|Summer|\n",
      "|    Medical Incident|  SF|  94109|          Tenderloin|       3.3|2002-07-01|2002|    7|  27|Summer|\n",
      "|      Structure Fire|  SF|  94117|        Hayes Valley|       2.5|2002-07-01|2002|    7|  27|Summer|\n",
      "|    Medical Incident|  SF|  94103|     South of Market| 22.633333|2002-07-01|2002|    7|  27|Summer|\n",
      "|    Medical Incident|  SF|  94102|          Tenderloin|0.76666665|2002-07-01|2002|    7|  27|Summer|\n",
      "|    Medical Incident|  SF|  94124|Bayview Hunters P...|  6.016667|2002-07-01|2002|    7|  27|Summer|\n",
      "|    Medical Incident|  SF|  94131|  West of Twin Peaks| 3.9333334|2002-07-01|2002|    7|  27|Summer|\n",
      "|      Structure Fire|  SF|  94110|             Mission|       1.3|2002-07-02|2002|    7|  27|Summer|\n",
      "|      Structure Fire|  SF|  94124|Bayview Hunters P...| 2.8666666|2002-07-02|2002|    7|  27|Summer|\n",
      "|Citizen Assist / ...|  SF|  94102|          Tenderloin| 3.1833334|2002-07-02|2002|    7|  27|Summer|\n",
      "+--------------------+----+-------+--------------------+----------+----------+----+-----+----+------+\n",
      "only showing top 20 rows\n",
      "\n"
     ]
    }
   ],
   "source": [
    "# Add new column 'Season' by user defined function\n",
    "\n",
    "# creating normal python function. In this case mapSeason(). Input to this function is values\n",
    "# from column Month. Output of this is season name (StringType)\n",
    "\n",
    "def mapSeason(data):\n",
    "    if 2 < data < 6:\n",
    "        return 'Spring'\n",
    "    elif 5 < data < 9:\n",
    "        return 'Summer'\n",
    "    elif 8 < data < 12 :\n",
    "        return 'Autumn'\n",
    "    else:\n",
    "        return 'Winter'\n",
    "    \n",
    "# Register python function as UDF (user defined function) using built-in function udf()\n",
    "# udf() takes 2 parameter. First is python function and second is return type of function.\n",
    "\n",
    "seasons_udf = udf(mapSeason, StringType())\n",
    "\n",
    "# Call the user defined function (season_udf()) and create new column 'Season'\n",
    "clean_df = clean_df.withColumn('Season', seasons_udf(col('Month')))\n",
    "clean_df.filter(col('Month') == 7).show()"
   ]
  },
  {
   "cell_type": "code",
   "execution_count": 9,
   "metadata": {
    "collapsed": true
   },
   "outputs": [
    {
     "name": "stdout",
     "output_type": "stream",
     "text": [
      "+----+-----+\n",
      "|Year|count|\n",
      "+----+-----+\n",
      "|2000| 5459|\n",
      "|2001| 7713|\n",
      "|2002| 8090|\n",
      "|2003| 8499|\n",
      "|2004| 8283|\n",
      "|2005| 8282|\n",
      "|2006| 8174|\n",
      "|2007| 8255|\n",
      "|2008| 8869|\n",
      "|2009| 8789|\n",
      "|2010| 9341|\n",
      "|2011| 9735|\n",
      "|2012| 9674|\n",
      "|2013|10020|\n",
      "|2014|10775|\n",
      "|2015|11458|\n",
      "|2016|11609|\n",
      "|2017|12135|\n",
      "|2018|10136|\n",
      "+----+-----+\n",
      "\n"
     ]
    }
   ],
   "source": [
    "# 1.\tGet yearly count of fire calls\n",
    "clean_df.select('Year')\\\n",
    "    .groupBy('Year')\\\n",
    "    .count()\\\n",
    "    .orderBy('Year').show()"
   ]
  },
  {
   "cell_type": "code",
   "execution_count": 10,
   "metadata": {},
   "outputs": [
    {
     "name": "stdout",
     "output_type": "stream",
     "text": [
      "+-------------------------------+\n",
      "|CallType                       |\n",
      "+-------------------------------+\n",
      "|Elevator / Escalator Rescue    |\n",
      "|Alarms                         |\n",
      "|Odor (Strange / Unknown)       |\n",
      "|Citizen Assist / Service Call  |\n",
      "|HazMat                         |\n",
      "|Explosion                      |\n",
      "|Vehicle Fire                   |\n",
      "|Suspicious Package             |\n",
      "|Other                          |\n",
      "|Outside Fire                   |\n",
      "|Traffic Collision              |\n",
      "|Assist Police                  |\n",
      "|Gas Leak (Natural and LP Gases)|\n",
      "|Water Rescue                   |\n",
      "|Electrical Hazard              |\n",
      "|Structure Fire                 |\n",
      "|Medical Incident               |\n",
      "|Fuel Spill                     |\n",
      "|Smoke Investigation (Outside)  |\n",
      "|Train / Rail Incident          |\n",
      "+-------------------------------+\n",
      "\n"
     ]
    }
   ],
   "source": [
    "# 2.\tWhat were all the different types of fire calls in 2018?\n",
    "clean_df.select('CallType')\\\n",
    "    .where(col('Year') == 2018)\\\n",
    "    .distinct().show(truncate=False)"
   ]
  },
  {
   "cell_type": "code",
   "execution_count": null,
   "metadata": {},
   "outputs": [],
   "source": [
    "# 3.\tWhich week in the year in 2018 had the most fire calls?\n",
    "clean_df.select('Week')\\\n",
    "    .where(col('Year') == 2018)\\\n",
    "    .groupBy('Week')\\\n",
    "    .count()\\\n",
    "    .orderBy('count', ascending=False).collect()"
   ]
  },
  {
   "cell_type": "code",
   "execution_count": null,
   "metadata": {},
   "outputs": [],
   "source": [
    "# 4.\tGet monthly count of fire calls based on year\n",
    "clean_df.select('Month')\\\n",
    "    .where(col('Year') == 2017)\\\n",
    "    .groupBy('Month')\\\n",
    "    .count()\\\n",
    "    .orderBy('Month').show()"
   ]
  },
  {
   "cell_type": "code",
   "execution_count": null,
   "metadata": {},
   "outputs": [],
   "source": [
    "# 5.\tGive monthly report of fire call types for selected year\n",
    "clean_df.select('Month', 'CallType')\\\n",
    "    .where(col('Year') == 2017)\\\n",
    "    .groupBy('Month', 'CallType')\\\n",
    "    .count()\\\n",
    "    .orderBy('Month').show()"
   ]
  },
  {
   "cell_type": "code",
   "execution_count": null,
   "metadata": {},
   "outputs": [],
   "source": [
    "# 6.\tGive top five fire call types for every season of selected year (seasons are like Spring, summer, fall winter etc).\n",
    "from pyspark.sql.window import Window\n",
    "\n",
    "season_df = clean_df.select('Season', 'CallType')\\\n",
    "    .where(col('Year') == 2017)\\\n",
    "    .groupBy('Season', 'CallType')\\\n",
    "    .count()\n",
    "\n",
    "windowPartition = Window.partitionBy('Season').orderBy(col(\"count\").desc())\n",
    "season_df = season_df.withColumn('Rank', rank().over(windowPartition))\\\n",
    "    .where(col('Rank') <= 5)\n",
    "season_df.show()"
   ]
  },
  {
   "cell_type": "code",
   "execution_count": null,
   "metadata": {},
   "outputs": [],
   "source": [
    "# 8.\tWhat months within the year 2018 saw the highest number of fire calls?\n",
    "clean_df.select('Month').filter(col('Year') == 2018).groupBy('Month').count().orderBy(col('count').desc()).show()"
   ]
  },
  {
   "cell_type": "code",
   "execution_count": null,
   "metadata": {},
   "outputs": [],
   "source": [
    "# 9.\tFind which type of fire call is major calltype in each year\n",
    "maj_fire = clean_df.select('CallType', 'Year')\\\n",
    "    .groupBy('Year','CallType')\\\n",
    "    .count().orderBy('Year', col('count').desc())\n",
    "maj_fire.show()"
   ]
  },
  {
   "cell_type": "code",
   "execution_count": null,
   "metadata": {},
   "outputs": [],
   "source": [
    "win = Window.partitionBy('Year').orderBy(col(\"count\").desc())\n",
    "maj_fire.withColumn('Rank',rank().over(win)).where(col('Rank') ==1).orderBy('Year').show()"
   ]
  },
  {
   "cell_type": "code",
   "execution_count": null,
   "metadata": {},
   "outputs": [],
   "source": [
    "# 10.\tFind out average delay in response for each call type\n",
    "avg_delay = clean_df.select('CallType', 'Delay')\\\n",
    "    .groupBy('CallType')\\\n",
    "    .agg(avg('Delay').alias('Avg Delay')).orderBy(col('Avg Delay').desc())\n",
    "avg_delay.show(30, truncate=False)"
   ]
  },
  {
   "cell_type": "code",
   "execution_count": null,
   "metadata": {},
   "outputs": [],
   "source": [
    "#11.\tFind which calltype has maximum average delay time.\n",
    "avg_delay.collect()[0][0]"
   ]
  },
  {
   "cell_type": "code",
   "execution_count": null,
   "metadata": {},
   "outputs": [],
   "source": [
    "# 12.\tWhich neighborhood in San Francisco generated the most fire calls in 2018?\n",
    "clean_df.select('City', 'Year','Neighborhood')\\\n",
    "    .filter((col('year') == 2018) & (col('City') == 'San Francisco'))\\\n",
    "    .groupBy('Neighborhood').count().orderBy(col('count').desc()).collect()[0][0]"
   ]
  },
  {
   "cell_type": "code",
   "execution_count": null,
   "metadata": {},
   "outputs": [],
   "source": []
  }
 ],
 "metadata": {
  "kernelspec": {
   "display_name": "Python 3",
   "language": "python",
   "name": "python3"
  },
  "language_info": {
   "codemirror_mode": {
    "name": "ipython",
    "version": 3
   },
   "file_extension": ".py",
   "mimetype": "text/x-python",
   "name": "python",
   "nbconvert_exporter": "python",
   "pygments_lexer": "ipython3",
   "version": "3.7.6"
  }
 },
 "nbformat": 4,
 "nbformat_minor": 4
}
