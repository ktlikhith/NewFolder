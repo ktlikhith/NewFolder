{
 "cells": [
  {
   "cell_type": "code",
   "execution_count": 3,
   "metadata": {},
   "outputs": [],
   "source": [
    "import pyspark\n",
    "from pyspark.sql import SparkSession\n",
    "spark = SparkSession.builder.appName('First Spark Program').getOrCreate()"
   ]
  },
  {
   "cell_type": "code",
   "execution_count": 2,
   "metadata": {},
   "outputs": [
    {
     "data": {
      "text/plain": [
       "pyspark.sql.session.SparkSession"
      ]
     },
     "execution_count": 2,
     "metadata": {},
     "output_type": "execute_result"
    }
   ],
   "source": [
    "type(spark)"
   ]
  },
  {
   "cell_type": "code",
   "execution_count": 6,
   "metadata": {},
   "outputs": [
    {
     "data": {
      "text/plain": [
       "3"
      ]
     },
     "execution_count": 6,
     "metadata": {},
     "output_type": "execute_result"
    }
   ],
   "source": [
    "# create RDD using parallelize method\n",
    "par_rdd = spark.sparkContext.parallelize([\"hello world\", \"Hope all is well\", \"ABD class is very boring\"])\n",
    "#type(par_rdd)\n",
    "#par_rdd.collect()\n",
    "par_rdd.count()"
   ]
  },
  {
   "cell_type": "code",
   "execution_count": 4,
   "metadata": {},
   "outputs": [],
   "source": [
    "# RDD from DataSource\n",
    "ds_rdd = spark.sparkContext.textFile('D:/input.txt')"
   ]
  },
  {
   "cell_type": "code",
   "execution_count": 5,
   "metadata": {},
   "outputs": [],
   "source": [
    "# Create RDD using transformations\n",
    "trans_rdd = ds_rdd.flatMap(lambda data : data.split(' '))"
   ]
  },
  {
   "cell_type": "code",
   "execution_count": 13,
   "metadata": {
    "collapsed": true
   },
   "outputs": [
    {
     "data": {
      "text/plain": [
       "['hello',\n",
       " 'world',\n",
       " 'Hope',\n",
       " 'all',\n",
       " 'is',\n",
       " 'well',\n",
       " 'ABD',\n",
       " 'class',\n",
       " 'is',\n",
       " 'very',\n",
       " 'boring']"
      ]
     },
     "execution_count": 13,
     "metadata": {},
     "output_type": "execute_result"
    }
   ],
   "source": [
    "trans_rdd.collect()"
   ]
  },
  {
   "cell_type": "code",
   "execution_count": 6,
   "metadata": {},
   "outputs": [
    {
     "data": {
      "text/plain": [
       "[('When', 1),\n",
       " ('is', 4),\n",
       " ('applied', 1),\n",
       " ('Spark', 1),\n",
       " ('RDD,', 1),\n",
       " ('using', 3),\n",
       " ('an', 3),\n",
       " ('associative', 2),\n",
       " ('reduce', 1),\n",
       " ('function.', 1),\n",
       " ('Associative', 1),\n",
       " ('functions', 1),\n",
       " ('us', 2),\n",
       " ('in', 5),\n",
       " ('parallel', 1),\n",
       " ('computation.', 1),\n",
       " ('we', 1),\n",
       " ('collection', 1),\n",
       " ('into', 1),\n",
       " ('function,', 1),\n",
       " ('further', 1),\n",
       " ('accumulated', 1),\n",
       " ('as', 2),\n",
       " ('total.', 1),\n",
       " ('Associativity', 1),\n",
       " ('use', 1),\n",
       " ('sequence', 1),\n",
       " ('used', 1),\n",
       " ('result', 1),\n",
       " ('out', 1),\n",
       " ('of', 5),\n",
       " ('output,', 1),\n",
       " ('evident', 1),\n",
       " ('output', 2),\n",
       " ('exactly', 1),\n",
       " ('match', 1),\n",
       " ('input', 2),\n",
       " ('passed', 1),\n",
       " ('check', 1),\n",
       " ('below', 1),\n",
       " ('diagram.', 1),\n",
       " ('both', 1),\n",
       " ('have', 1),\n",
       " ('record', 1),\n",
       " ('count', 1),\n",
       " ('a', 4),\n",
       " ('reduceByKey', 2),\n",
       " ('function', 4),\n",
       " ('on', 1),\n",
       " ('it', 2),\n",
       " ('merges', 1),\n",
       " ('the', 6),\n",
       " ('values', 1),\n",
       " ('for', 1),\n",
       " ('each', 1),\n",
       " ('key', 1),\n",
       " ('by', 3),\n",
       " ('helps', 1),\n",
       " ('doing', 1),\n",
       " ('Here', 1),\n",
       " ('break', 1),\n",
       " ('original', 1),\n",
       " ('pieces', 1),\n",
       " ('and', 3),\n",
       " ('then', 1),\n",
       " ('apply', 1),\n",
       " ('that', 3),\n",
       " ('Also,', 1),\n",
       " ('allows', 1),\n",
       " ('to', 3),\n",
       " ('same', 1),\n",
       " ('parallel.', 1),\n",
       " ('This', 1),\n",
       " ('property', 1),\n",
       " ('transformation', 1),\n",
       " ('order', 1),\n",
       " ('compute', 1),\n",
       " ('RDD', 1),\n",
       " ('From', 1),\n",
       " ('while', 1),\n",
       " ('map', 1),\n",
       " ('number', 3),\n",
       " ('records', 3),\n",
       " ('will', 1),\n",
       " ('process.', 1),\n",
       " ('We', 2),\n",
       " ('can', 2),\n",
       " ('count()', 1),\n",
       " ('shown', 1),\n",
       " ('observe', 1)]"
      ]
     },
     "execution_count": 6,
     "metadata": {},
     "output_type": "execute_result"
    }
   ],
   "source": [
    "tup_rdd = trans_rdd.map(lambda data: (data, 1))\n",
    "tup_rdd.reduceByKey(lambda a,b:a+b).collect()"
   ]
  },
  {
   "cell_type": "code",
   "execution_count": null,
   "metadata": {},
   "outputs": [],
   "source": []
  }
 ],
 "metadata": {
  "kernelspec": {
   "display_name": "Python 3",
   "language": "python",
   "name": "python3"
  },
  "language_info": {
   "codemirror_mode": {
    "name": "ipython",
    "version": 3
   },
   "file_extension": ".py",
   "mimetype": "text/x-python",
   "name": "python",
   "nbconvert_exporter": "python",
   "pygments_lexer": "ipython3",
   "version": "3.7.6"
  }
 },
 "nbformat": 4,
 "nbformat_minor": 4
}
